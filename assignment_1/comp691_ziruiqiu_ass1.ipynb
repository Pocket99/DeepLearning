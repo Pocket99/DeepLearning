{
 "cells": [
  {
   "cell_type": "code",
   "execution_count": 13,
   "metadata": {},
   "outputs": [
    {
     "name": "stdout",
     "output_type": "stream",
     "text": [
      "True\n"
     ]
    }
   ],
   "source": [
    "import torch\n",
    "import os\n",
    "from torch import linalg as LA\n",
    "import numpy as np\n",
    "import matplotlib.pyplot as plt\n",
    "from sklearn.datasets import fetch_california_housing\n",
    "from sklearn.model_selection import train_test_split\n",
    "import math\n",
    "\n",
    "print(torch.cuda.is_available())"
   ]
  },
  {
   "cell_type": "code",
   "execution_count": 14,
   "metadata": {},
   "outputs": [
    {
     "ename": "RuntimeError",
     "evalue": "CUDA error: all CUDA-capable devices are busy or unavailable\nCUDA kernel errors might be asynchronously reported at some other API call,so the stacktrace below might be incorrect.\nFor debugging consider passing CUDA_LAUNCH_BLOCKING=1.",
     "output_type": "error",
     "traceback": [
      "\u001b[0;31m---------------------------------------------------------------------------\u001b[0m",
      "\u001b[0;31mRuntimeError\u001b[0m                              Traceback (most recent call last)",
      "Cell \u001b[0;32mIn[14], line 5\u001b[0m\n\u001b[1;32m      1\u001b[0m device\u001b[39m=\u001b[39m\u001b[39m'\u001b[39m\u001b[39mcuda\u001b[39m\u001b[39m'\u001b[39m \n\u001b[1;32m      4\u001b[0m \u001b[39m# Define network parameters\u001b[39;00m\n\u001b[0;32m----> 5\u001b[0m W1 \u001b[39m=\u001b[39m torch\u001b[39m.\u001b[39;49mrandn(\u001b[39m20\u001b[39;49m, \u001b[39m10\u001b[39;49m, device\u001b[39m=\u001b[39;49mdevice, requires_grad\u001b[39m=\u001b[39;49m\u001b[39mTrue\u001b[39;49;00m)\n\u001b[1;32m      6\u001b[0m b1 \u001b[39m=\u001b[39m torch\u001b[39m.\u001b[39mrandn(\u001b[39m20\u001b[39m, \u001b[39m1\u001b[39m, device\u001b[39m=\u001b[39mdevice, requires_grad\u001b[39m=\u001b[39m\u001b[39mTrue\u001b[39;00m)\n\u001b[1;32m      7\u001b[0m W2 \u001b[39m=\u001b[39m torch\u001b[39m.\u001b[39mrandn(\u001b[39m20\u001b[39m, \u001b[39m1\u001b[39m, device\u001b[39m=\u001b[39mdevice, requires_grad\u001b[39m=\u001b[39m\u001b[39mTrue\u001b[39;00m)\n",
      "\u001b[0;31mRuntimeError\u001b[0m: CUDA error: all CUDA-capable devices are busy or unavailable\nCUDA kernel errors might be asynchronously reported at some other API call,so the stacktrace below might be incorrect.\nFor debugging consider passing CUDA_LAUNCH_BLOCKING=1."
     ]
    }
   ],
   "source": [
    "device='cuda' \n",
    "\n",
    "\n",
    "# Define network parameters\n",
    "W1 = torch.randn(20, 10, device=device, requires_grad=True)\n",
    "b1 = torch.randn(20, 1, device=device, requires_grad=True)\n",
    "W2 = torch.randn(20, 1, device=device, requires_grad=True)\n",
    "b2 = torch.randn(1, device=device, requires_grad=True)\n",
    "\n",
    "# Define forward pass function\n",
    "def forward(x):\n",
    "    z = torch.matmul(W1, x) + b1\n",
    "    a = torch.tanh(z)\n",
    "    y_hat = torch.matmul(W2.T, a) + b2\n",
    "    return y_hat\n",
    "\n",
    "# Define loss function\n",
    "def loss(y_hat, y):\n",
    "    return torch.mean(torch.abs(y_hat - y))\n",
    "\n",
    "# Generate random input and output data\n",
    "x = torch.randn(100, 10, 1, device=device)\n",
    "y = torch.randn(100, 1, 1, device=device)\n",
    "\n",
    "# Compute forward pass and loss\n",
    "y_hat = forward(x)\n",
    "L = loss(y_hat, y)\n",
    "\n",
    "# Compute gradients with autograd\n",
    "L.backward()\n",
    "auto_W1 = W1.grad\n",
    "auto_b1 = b1.grad\n",
    "auto_W2 = W2.grad\n",
    "auto_b2 = b2.grad\n",
    "\n",
    "# Compute gradients manually\n",
    "hand_b2 = torch.mean(torch.sign(y_hat - y), dim=0)\n",
    "hand_W2 = torch.mean(torch.sign(y_hat - y) * torch.tanh(torch.matmul(W1, x) + b1), dim=0)\n",
    "hand_b1 = torch.mean(torch.sign(y_hat - y) * W2 * (1 - torch.tanh(torch.matmul(W1, x) + b1) ** 2), dim=0)\n",
    "hand_W1 = torch.mean(torch.matmul(torch.sign(y_hat - y) * W2 * (1 - torch.tanh(torch.matmul(W1, x) + b1) ** 2), x.permute(0, 2, 1)), dim=0)\n",
    "\n",
    "\n",
    "# Compare gradients\n",
    "print('W1 diff:', torch.linalg.norm(auto_W1 - hand_W1))\n",
    "print('b1 diff:', torch.linalg.norm(auto_b1 - hand_b1))\n",
    "print('W2 diff:', torch.linalg.norm(auto_W2 - hand_W2))\n",
    "print('b2 diff:', torch.linalg.norm(auto_b2 - hand_b2))\n",
    "\n"
   ]
  },
  {
   "cell_type": "code",
   "execution_count": 84,
   "metadata": {},
   "outputs": [
    {
     "ename": "RuntimeError",
     "evalue": "mat1 and mat2 shapes cannot be multiplied (20x10 and 10320x8)",
     "output_type": "error",
     "traceback": [
      "\u001b[0;31m---------------------------------------------------------------------------\u001b[0m",
      "\u001b[0;31mRuntimeError\u001b[0m                              Traceback (most recent call last)",
      "Cell \u001b[0;32mIn[84], line 66\u001b[0m\n\u001b[1;32m     64\u001b[0m \u001b[39m# Train the network\u001b[39;00m\n\u001b[1;32m     65\u001b[0m model \u001b[39m=\u001b[39m MyNet()\u001b[39m.\u001b[39mto(device)\n\u001b[0;32m---> 66\u001b[0m model \u001b[39m=\u001b[39m train_loop(model, X_train, y_train)\n\u001b[1;32m     68\u001b[0m \u001b[39m# Evaluate the network\u001b[39;00m\n\u001b[1;32m     69\u001b[0m y_hat \u001b[39m=\u001b[39m model(X_test)\n",
      "Cell \u001b[0;32mIn[84], line 53\u001b[0m, in \u001b[0;36mtrain_loop\u001b[0;34m(model, input, target, num_epochs, learning_rate)\u001b[0m\n\u001b[1;32m     51\u001b[0m \u001b[39mdef\u001b[39;00m \u001b[39mtrain_loop\u001b[39m(model, \u001b[39minput\u001b[39m, target, num_epochs\u001b[39m=\u001b[39m\u001b[39m50\u001b[39m, learning_rate\u001b[39m=\u001b[39m\u001b[39m1e-3\u001b[39m):\n\u001b[1;32m     52\u001b[0m     \u001b[39mfor\u001b[39;00m epoch \u001b[39min\u001b[39;00m \u001b[39mrange\u001b[39m(num_epochs):\n\u001b[0;32m---> 53\u001b[0m         y_hat \u001b[39m=\u001b[39m forward(\u001b[39minput\u001b[39;49m)\n\u001b[1;32m     54\u001b[0m         loss \u001b[39m=\u001b[39m my_loss(y_hat, target)\n\u001b[1;32m     55\u001b[0m         loss\u001b[39m.\u001b[39mbackward()\n",
      "Cell \u001b[0;32mIn[81], line 12\u001b[0m, in \u001b[0;36mforward\u001b[0;34m(x)\u001b[0m\n\u001b[1;32m     11\u001b[0m \u001b[39mdef\u001b[39;00m \u001b[39mforward\u001b[39m(x):\n\u001b[0;32m---> 12\u001b[0m     z \u001b[39m=\u001b[39m torch\u001b[39m.\u001b[39;49mmatmul(W1, x) \u001b[39m+\u001b[39m b1\n\u001b[1;32m     13\u001b[0m     a \u001b[39m=\u001b[39m torch\u001b[39m.\u001b[39mtanh(z)\n\u001b[1;32m     14\u001b[0m     y_hat \u001b[39m=\u001b[39m torch\u001b[39m.\u001b[39mmatmul(W2\u001b[39m.\u001b[39mT, a) \u001b[39m+\u001b[39m b2\n",
      "\u001b[0;31mRuntimeError\u001b[0m: mat1 and mat2 shapes cannot be multiplied (20x10 and 10320x8)"
     ]
    }
   ],
   "source": [
    "# Train this model on the sklearn California Housing Prices datasets.\n",
    "# • For this you may use the optimizer and learning rates of your choice and train\n",
    "# for 20-50 epochs.\n",
    "# • Take half the data for training and half for testing.\n",
    "# • Create a validation set from the training set and use it to select a good learning\n",
    "# rate.\n",
    "# • You might want to use the convenient Xavier initialization.\n",
    "# • You are free to use the torch.optim package for this part.\n",
    "# • To speed up things, run the training loop by batches (e.g. 4, 8, 32, 64, etc.).\n",
    "# PyTorch’s DataLoader would be a useful tool to easily fetch a predefined set\n",
    "# of batches per training iteration.\n",
    "# • Report the mean squared error on the train and test set after each epoch.\n",
    "# • You will need to adjust the size of W 1 to fit the size of this data.\n",
    "\n",
    "# Load the data\n",
    "\n",
    "\n",
    "data = fetch_california_housing()\n",
    "X = data['data']\n",
    "y = data['target']  \n",
    "X_train, X_test, y_train, y_test = train_test_split(X, y, test_size=0.5, random_state=42)\n",
    "\n",
    "# Normalize the data\n",
    "X_train = (X_train - np.mean(X_train, axis=0)) / np.std(X_train, axis=0)\n",
    "X_test = (X_test - np.mean(X_test, axis=0)) / np.std(X_test, axis=0)\n",
    "\n",
    "# Convert to torch tensors\n",
    "X_train = torch.from_numpy(X_train).float().to(device)\n",
    "X_test = torch.from_numpy(X_test).float().to(device)\n",
    "y_train = torch.from_numpy(y_train).float().to(device)\n",
    "y_test = torch.from_numpy(y_test).float().to(device)\n",
    "\n",
    "# Define the network\n",
    "class MyNet(torch.nn.Module):\n",
    "    def __init__(self):\n",
    "        super(MyNet, self).__init__()\n",
    "        self.linear1 = torch.nn.Linear(8, 20)\n",
    "        self.linear2 = torch.nn.Linear(20, 1)\n",
    "        self.tanh = torch.nn.Tanh()\n",
    "    def forward(self, x):\n",
    "        x = self.linear1(x)\n",
    "        x = self.tanh(x)\n",
    "        x = self.linear2(x)\n",
    "        return x\n",
    "    \n",
    "# Define the loss function\n",
    "def my_loss(y_hat, y):\n",
    "    return torch.mean(torch.abs(y_hat - y))\n",
    "\n",
    "# Define the training loop\n",
    "def train_loop(model, input, target, num_epochs=50, learning_rate=1e-3):\n",
    "    for epoch in range(num_epochs):\n",
    "        y_hat = forward(input)\n",
    "        loss = my_loss(y_hat, target)\n",
    "        loss.backward()\n",
    "        with torch.no_grad():\n",
    "            for param in model.parameters():\n",
    "                param -= learning_rate * param.grad\n",
    "                param.grad.zero_()\n",
    "        if epoch % 5 == 0:\n",
    "            print('Epoch %d, Loss %f' % (epoch, float(loss)))\n",
    "    return model\n",
    "\n",
    "# Train the network\n",
    "model = MyNet().to(device)\n",
    "model = train_loop(model, X_train, y_train)\n",
    "\n",
    "# Evaluate the network\n",
    "y_hat = model(X_test)\n",
    "loss = my_loss(y_hat, y_test)\n",
    "print('Test loss: %f' % loss)\n",
    "\n"
   ]
  },
  {
   "cell_type": "code",
   "execution_count": 7,
   "metadata": {},
   "outputs": [
    {
     "ename": "RuntimeError",
     "evalue": "CUDA error: all CUDA-capable devices are busy or unavailable\nCUDA kernel errors might be asynchronously reported at some other API call,so the stacktrace below might be incorrect.\nFor debugging consider passing CUDA_LAUNCH_BLOCKING=1.",
     "output_type": "error",
     "traceback": [
      "\u001b[0;31m---------------------------------------------------------------------------\u001b[0m",
      "\u001b[0;31mRuntimeError\u001b[0m                              Traceback (most recent call last)",
      "Cell \u001b[0;32mIn[7], line 42\u001b[0m\n\u001b[1;32m     40\u001b[0m L \u001b[39m=\u001b[39m \u001b[39m10\u001b[39m\n\u001b[1;32m     41\u001b[0m param_dict \u001b[39m=\u001b[39m {}\n\u001b[0;32m---> 42\u001b[0m param_dict[\u001b[39m'\u001b[39m\u001b[39mW1\u001b[39m\u001b[39m'\u001b[39m] \u001b[39m=\u001b[39m torch\u001b[39m.\u001b[39;49mrandn(K, D, device\u001b[39m=\u001b[39;49mdevice, requires_grad\u001b[39m=\u001b[39;49m\u001b[39mTrue\u001b[39;49;00m)\n\u001b[1;32m     43\u001b[0m \u001b[39mfor\u001b[39;00m i \u001b[39min\u001b[39;00m \u001b[39mrange\u001b[39m(\u001b[39m2\u001b[39m, L):\n\u001b[1;32m     44\u001b[0m     param_dict[\u001b[39m'\u001b[39m\u001b[39mW\u001b[39m\u001b[39m'\u001b[39m \u001b[39m+\u001b[39m \u001b[39mstr\u001b[39m(i)] \u001b[39m=\u001b[39m torch\u001b[39m.\u001b[39mrandn(K, K, device\u001b[39m=\u001b[39mdevice, requires_grad\u001b[39m=\u001b[39m\u001b[39mTrue\u001b[39;00m)\n",
      "\u001b[0;31mRuntimeError\u001b[0m: CUDA error: all CUDA-capable devices are busy or unavailable\nCUDA kernel errors might be asynchronously reported at some other API call,so the stacktrace below might be incorrect.\nFor debugging consider passing CUDA_LAUNCH_BLOCKING=1."
     ]
    }
   ],
   "source": [
    "# question 2 \n",
    "# Consider the neural network\n",
    "# f(x) = WF ρ ◦ WL . . . ρ ◦ Wi . . . ρ ◦ W2ρ ◦ W1x\n",
    "# where W1 is K × D, Wi\n",
    "# is K × K for i > 1, and WF is P × K. Note f : RD → RP .\n",
    "# Take ρ(x) = tanh(x). We will examine different ways to compute the Jacobian ∂f(x)/∂x .\n",
    "# (a) \n",
    "# Use torch tensors to write a function which computes the Jacobian,\n",
    "# ∂f(x)/∂x , using backward mode automatic differentiation for a given value of x and\n",
    "# W1, . . . , Wi, . . . , WF where the given matrices are specified by a dictionary of torch\n",
    "# tensors. Implement and test this for L = 3. Your function should only make use\n",
    "# of basic matrix operations (e.g. torch.matmul(), torch.tanh(), etc). You may not\n",
    "# use autograd or autograd.jacobian for your implementation (but you can use them\n",
    "# to unit test your answer). Test it for the case of D = 2, K = 30, P = 10, your\n",
    "# solution does not have to cover all edge cases of K, P,D it is sufficient it works on\n",
    "# the ones provided here.\n",
    "\n",
    "# Define the network\n",
    "def my_nn(x, param_dict):\n",
    "    for i in range(1, L):\n",
    "        x = torch.matmul(param_dict['W' + str(i)], x)\n",
    "        x = torch.tanh(x)\n",
    "    x = torch.matmul(param_dict['WF'], x)\n",
    "    return x\n",
    "\n",
    "# Define the Jacobian function\n",
    "def my_jacobian(x, param_dict):\n",
    "    y = my_nn(x, param_dict) # forward pass\n",
    "    J = torch.zeros(y.shape[0], x.shape[0])\n",
    "    for i in range(y.shape[0]):\n",
    "        y[i].backward(retain_graph=True)\n",
    "        J[i, :] = x.grad\n",
    "        x.grad.zero_()\n",
    "    return J\n",
    "\n",
    "# Define the parameters\n",
    "D = 2\n",
    "K = 30\n",
    "P = 10\n",
    "L = 10\n",
    "param_dict = {}\n",
    "param_dict['W1'] = torch.randn(K, D, device=device, requires_grad=True)\n",
    "for i in range(2, L):\n",
    "    param_dict['W' + str(i)] = torch.randn(K, K, device=device, requires_grad=True)\n",
    "param_dict['WF'] = torch.randn(P, K, device=device, requires_grad=True)\n",
    "\n",
    "# Define the input\n",
    "x = torch.randn(D, device=device, requires_grad=True)\n",
    "\n",
    "# Compute the Jacobian\n",
    "J = my_jacobian(x, param_dict)\n",
    "print(J)\n",
    "\n",
    "# Compare with autograd\n",
    "x = x.reshape(-1, 1)\n",
    "y = my_nn(x, param_dict)\n",
    "y = y.reshape(-1, 1)\n",
    "J_autograd = torch.autograd.functional.jacobian(lambda x: my_nn(x, param_dict), x)\n",
    "print(J)\n"
   ]
  },
  {
   "cell_type": "code",
   "execution_count": null,
   "metadata": {},
   "outputs": [
    {
     "name": "stdout",
     "output_type": "stream",
     "text": [
      "torch.Size([2])\n",
      "torch.Size([30, 2])\n",
      "torch.Size([30])\n",
      "torch.Size([30, 30])\n",
      "tensor([[-3.6832,  3.1388],\n",
      "        [ 2.1358, -3.0074],\n",
      "        [-5.7035,  3.5083],\n",
      "        [ 4.5243, -3.9619],\n",
      "        [ 3.4845, -4.2608],\n",
      "        [-1.6215,  1.7399],\n",
      "        [ 2.4567, -0.5928],\n",
      "        [ 5.4941, -5.6483],\n",
      "        [ 0.4993,  1.7094],\n",
      "        [-5.2610,  3.5687]])\n"
     ]
    }
   ],
   "source": [
    "\n",
    "\n",
    "\n"
   ]
  },
  {
   "cell_type": "code",
   "execution_count": null,
   "metadata": {},
   "outputs": [],
   "source": [
    "# (c) (4 points) Benchmark the Jacobian computation of (b) compared to that of (c)\n",
    "# for L=3,5,10. Report speed of these answers on test cases using GPU and CPU\n",
    "\n"
   ]
  },
  {
   "cell_type": "code",
   "execution_count": 38,
   "metadata": {},
   "outputs": [
    {
     "name": "stderr",
     "output_type": "stream",
     "text": [
      "/tmp/ipykernel_7772/3794295671.py:6: UserWarning: torch.range is deprecated and will be removed in a future release because its behavior is inconsistent with Python's range builtin. Instead, use torch.arange, which produces values in [start, end).\n",
      "  x=torch.range(-1,2,0.1)\n"
     ]
    },
    {
     "data": {
      "text/plain": [
       "[<matplotlib.lines.Line2D at 0x7fd10c243790>]"
      ]
     },
     "execution_count": 38,
     "metadata": {},
     "output_type": "execute_result"
    },
    {
     "data": {
      "image/png": "[encoded data removed]",
      "text/plain": [
       "<Figure size 640x480 with 1 Axes>"
      ]
     },
     "metadata": {},
     "output_type": "display_data"
    }
   ],
   "source": [
    "# 3(a)\n",
    "\n",
    "def my_fun(x):\n",
    "    return torch.relu(torch.relu(x*torch.tensor(2)) - torch.relu(x*torch.tensor(4) - torch.tensor(2)))\n",
    "\n",
    "x=torch.range(-1,2,0.1)\n",
    "\n",
    "plt.plot(x, my_fun(x))\n",
    "\n",
    "# For the following functions find by hand the parameters of a neural network that can\n",
    "# fit these functions. You should use either a 1 or 2 hidden layer network and may use\n",
    "# either sigmoid or ReLU non-linearities. In each case justify your answer and how you\n",
    "# arrived at it (without using numerical/software packages).\n"
   ]
  },
  {
   "cell_type": "code",
   "execution_count": 78,
   "metadata": {},
   "outputs": [
    {
     "name": "stdout",
     "output_type": "stream",
     "text": [
      "tensor([1.6800])\n"
     ]
    },
    {
     "name": "stderr",
     "output_type": "stream",
     "text": [
      "/tmp/ipykernel_7772/2001599451.py:1: UserWarning: torch.range is deprecated and will be removed in a future release because its behavior is inconsistent with Python's range builtin. Instead, use torch.arange, which produces values in [start, end).\n",
      "  x = torch.range(-5,5,0.1)\n"
     ]
    },
    {
     "data": {
      "text/plain": [
       "[<matplotlib.lines.Line2D at 0x7fd104e4f1c0>]"
      ]
     },
     "execution_count": 78,
     "metadata": {},
     "output_type": "execute_result"
    },
    {
     "data": {
      "image/png": "[encoded data removed]",
      "text/plain": [
       "<Figure size 640x480 with 1 Axes>"
      ]
     },
     "metadata": {},
     "output_type": "display_data"
    }
   ],
   "source": [
    "x = torch.range(-5,5,0.1)\n",
    "s = torch.randn(1)\n",
    "def my_fun(x, s):\n",
    "    return torch.max(torch.abs(x) - s, torch.tensor([0.])) * torch.sign(x)\n",
    "\n",
    "print(s)\n",
    "plt.plot(x,my_fun(x, s))"
   ]
  },
  {
   "cell_type": "code",
   "execution_count": null,
   "metadata": {},
   "outputs": [],
   "source": []
  }
 ],
 "metadata": {
  "kernelspec": {
   "display_name": "DL2",
   "language": "python",
   "name": "python3"
  },
  "language_info": {
   "codemirror_mode": {
    "name": "ipython",
    "version": 3
   },
   "file_extension": ".py",
   "mimetype": "text/x-python",
   "name": "python",
   "nbconvert_exporter": "python",
   "pygments_lexer": "ipython3",
   "version": "3.9.16"
  },
  "orig_nbformat": 4,
  "vscode": {
   "interpreter": {
    "hash": "500c0e9a6935d00759d77722fd6506f0833ee64cfb01e602cf0f077fa4be4564"
   }
  }
 },
 "nbformat": 4,
 "nbformat_minor": 2
}
