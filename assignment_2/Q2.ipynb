{
  "cells": [
    {
      "cell_type": "markdown",
      "metadata": {
        "id": "eNtvb_zpN4H7"
      },
      "source": [
        "# 🦜 NN-Based Language Model\n",
        "In this excercise we will run a basic RNN based language model and answer some questions about the code. It is advised to use GPU to run the code. First run the code then answer the questions below that require modifying it."
      ]
    },
    {
      "cell_type": "code",
      "execution_count": 1,
      "metadata": {
        "id": "CTOJyYyujICY"
      },
      "outputs": [
        {
          "name": "stdout",
          "output_type": "stream",
          "text": [
            "Cloning into 'pytorch-tutorial'...\n",
            "remote: Enumerating objects: 917, done.\u001b[K\n",
            "remote: Total 917 (delta 0), reused 0 (delta 0), pack-reused 917\u001b[K\n",
            "Receiving objects: 100% (917/917), 12.80 MiB | 947.00 KiB/s, done.\n",
            "Resolving deltas: 100% (491/491), done.\n",
            "/home/ziruiqiu/comp691_DL/assignment_2/pytorch-tutorial/tutorials/02-intermediate/language_model\n",
            "--> Device selected: cuda\n"
          ]
        },
        {
          "name": "stderr",
          "output_type": "stream",
          "text": [
            "/home/ziruiqiu/anaconda3/envs/DL2/lib/python3.9/site-packages/tqdm/auto.py:22: TqdmWarning: IProgress not found. Please update jupyter and ipywidgets. See https://ipywidgets.readthedocs.io/en/stable/user_install.html\n",
            "  from .autonotebook import tqdm as notebook_tqdm\n"
          ]
        }
      ],
      "source": [
        "#@title 🧮 Imports & Hyperparameter Setup\n",
        "#@markdown Feel free to experiment with the following hyperparameters at your\n",
        "#@markdown leasure. For the purpose of this assignment, leave the default values\n",
        "#@markdown and run the code with these suggested values.\n",
        "# Some part of the code was referenced from below.\n",
        "# https://github.com/pytorch/examples/tree/master/word_language_model \n",
        "# https://github.com/yunjey/pytorch-tutorial/tree/master/tutorials/02-intermediate/language_model\n",
        "\n",
        "! git clone https://github.com/yunjey/pytorch-tutorial/\n",
        "%cd pytorch-tutorial/tutorials/02-intermediate/language_model/\n",
        "\n",
        "import torch\n",
        "import torch.nn as nn\n",
        "import numpy as np\n",
        "from torch.nn.utils import clip_grad_norm_\n",
        "\n",
        "# Device configuration\n",
        "device = torch.device('cuda' if torch.cuda.is_available() else 'cpu')\n",
        "\n",
        "# Hyper-parameters\n",
        "embed_size = 128 #@param {type:\"number\"}\n",
        "hidden_size = 1024 #@param {type:\"number\"}\n",
        "num_layers = 1 #@param {type:\"number\"}\n",
        "num_epochs = 5 #@param {type:\"slider\", min:1, max:10, step:1}\n",
        "batch_size = 20 #@param {type:\"number\"}\n",
        "seq_length = 30 #@param {type:\"number\"}\n",
        "learning_rate = 0.002 #@param {type:\"number\"}\n",
        "#@markdown Number of words to be sampled ⬇️\n",
        "num_samples = 50 #@param {type:\"number\"}  \n",
        "\n",
        "print(f\"--> Device selected: {device}\")\n"
      ]
    },
    {
      "cell_type": "code",
      "execution_count": 2,
      "metadata": {
        "id": "tzj73P_QeBEA"
      },
      "outputs": [
        {
          "name": "stdout",
          "output_type": "stream",
          "text": [
            "Vcoabulary size: 10000\n",
            "Number of batches: 1549\n"
          ]
        }
      ],
      "source": [
        "from data_utils import Dictionary, Corpus\n",
        "\n",
        "# Load \"Penn Treebank\" dataset\n",
        "corpus = Corpus()\n",
        "ids = corpus.get_data('data/train.txt', batch_size)\n",
        "vocab_size = len(corpus.dictionary)\n",
        "num_batches = ids.size(1) // seq_length\n",
        "\n",
        "print(f\"Vcoabulary size: {vocab_size}\")\n",
        "print(f\"Number of batches: {num_batches}\")"
      ]
    },
    {
      "cell_type": "markdown",
      "metadata": {
        "id": "MKzalmp8dndK"
      },
      "source": [
        "## 🤖 Model Definition\n",
        "As you can see below, this model stacks `num_layers` many [LSTM](https://pytorch.org/docs/stable/generated/torch.nn.LSTM.html) units vertically to construct our basic RNN-based language model. The diagram below shows a pictorial representation of the model in its simplest form (i.e `num_layers`=1).\n",
        "![Pictorial Representation of The Model](https://upload.wikimedia.org/wikipedia/commons/6/63/Long_Short-Term_Memory.svg)"
      ]
    },
    {
      "cell_type": "code",
      "execution_count": 26,
      "metadata": {
        "id": "QZTjM5fQri35"
      },
      "outputs": [],
      "source": [
        "# RNN based language model\n",
        "class RNNLM(nn.Module):\n",
        "    def __init__(self, vocab_size, embed_size, hidden_size, num_layers):\n",
        "        super(RNNLM, self).__init__()\n",
        "        self.embed = nn.Embedding(vocab_size, embed_size)\n",
        "        self.lstm = nn.LSTM(embed_size, hidden_size, num_layers, batch_first=True)\n",
        "        self.linear = nn.Linear(hidden_size, vocab_size)\n",
        "        \n",
        "    def forward(self, x, h):\n",
        "        # Embed word ids to vectors\n",
        "        x = self.embed(x)\n",
        "        \n",
        "        # Forward propagate LSTM\n",
        "        out, (h, c) = self.lstm(x, h)\n",
        "        \n",
        "        # Reshape output to (batch_size*sequence_length, hidden_size)\n",
        "        out = out.reshape(out.size(0)*out.size(1), out.size(2))\n",
        "        \n",
        "        # Decode hidden states of all time steps\n",
        "        out = self.linear(out)\n",
        "        return out, (h, c)"
      ]
    },
    {
      "cell_type": "markdown",
      "metadata": {
        "id": "S_fjTZ6wdpae"
      },
      "source": [
        "## 🏓 Training\n",
        "In this section we will train our model, this should take a couple of minutes! Be patient 😊"
      ]
    },
    {
      "cell_type": "code",
      "execution_count": 27,
      "metadata": {
        "id": "DsaIIUUHjQ5n"
      },
      "outputs": [
        {
          "name": "stdout",
          "output_type": "stream",
          "text": [
            "Epoch [1/5], Step[0/1549], Loss: 9.2080, Perplexity: 9976.54\n",
            "Epoch [1/5], Step[100/1549], Loss: 5.9975, Perplexity: 402.44\n",
            "Epoch [1/5], Step[200/1549], Loss: 5.9582, Perplexity: 386.92\n",
            "Epoch [1/5], Step[300/1549], Loss: 5.7283, Perplexity: 307.44\n",
            "Epoch [1/5], Step[400/1549], Loss: 5.6841, Perplexity: 294.15\n",
            "Epoch [1/5], Step[500/1549], Loss: 5.0878, Perplexity: 162.03\n",
            "Epoch [1/5], Step[600/1549], Loss: 5.1906, Perplexity: 179.58\n",
            "Epoch [1/5], Step[700/1549], Loss: 5.3657, Perplexity: 213.94\n",
            "Epoch [1/5], Step[800/1549], Loss: 5.2038, Perplexity: 181.96\n",
            "Epoch [1/5], Step[900/1549], Loss: 5.0914, Perplexity: 162.63\n",
            "Epoch [1/5], Step[1000/1549], Loss: 5.1310, Perplexity: 169.19\n",
            "Epoch [1/5], Step[1100/1549], Loss: 5.3772, Perplexity: 216.41\n",
            "Epoch [1/5], Step[1200/1549], Loss: 5.1606, Perplexity: 174.26\n",
            "Epoch [1/5], Step[1300/1549], Loss: 5.1175, Perplexity: 166.91\n",
            "Epoch [1/5], Step[1400/1549], Loss: 4.8899, Perplexity: 132.94\n",
            "Epoch [1/5], Step[1500/1549], Loss: 5.1280, Perplexity: 168.69\n",
            "Epoch [2/5], Step[0/1549], Loss: 5.4656, Perplexity: 236.42\n",
            "Epoch [2/5], Step[100/1549], Loss: 4.5718, Perplexity: 96.72\n",
            "Epoch [2/5], Step[200/1549], Loss: 4.7383, Perplexity: 114.23\n",
            "Epoch [2/5], Step[300/1549], Loss: 4.6390, Perplexity: 103.44\n",
            "Epoch [2/5], Step[400/1549], Loss: 4.5570, Perplexity: 95.30\n",
            "Epoch [2/5], Step[500/1549], Loss: 4.1185, Perplexity: 61.47\n",
            "Epoch [2/5], Step[600/1549], Loss: 4.3943, Perplexity: 80.99\n",
            "Epoch [2/5], Step[700/1549], Loss: 4.3965, Perplexity: 81.17\n",
            "Epoch [2/5], Step[800/1549], Loss: 4.4510, Perplexity: 85.71\n",
            "Epoch [2/5], Step[900/1549], Loss: 4.2476, Perplexity: 69.94\n",
            "Epoch [2/5], Step[1000/1549], Loss: 4.3381, Perplexity: 76.56\n",
            "Epoch [2/5], Step[1100/1549], Loss: 4.5769, Perplexity: 97.21\n",
            "Epoch [2/5], Step[1200/1549], Loss: 4.4043, Perplexity: 81.80\n",
            "Epoch [2/5], Step[1300/1549], Loss: 4.2753, Perplexity: 71.90\n",
            "Epoch [2/5], Step[1400/1549], Loss: 3.9939, Perplexity: 54.27\n",
            "Epoch [2/5], Step[1500/1549], Loss: 4.2479, Perplexity: 69.96\n",
            "Epoch [3/5], Step[0/1549], Loss: 4.4844, Perplexity: 88.62\n",
            "Epoch [3/5], Step[100/1549], Loss: 3.8135, Perplexity: 45.31\n",
            "Epoch [3/5], Step[200/1549], Loss: 4.0808, Perplexity: 59.19\n",
            "Epoch [3/5], Step[300/1549], Loss: 3.9586, Perplexity: 52.38\n",
            "Epoch [3/5], Step[400/1549], Loss: 3.8588, Perplexity: 47.41\n",
            "Epoch [3/5], Step[500/1549], Loss: 3.3940, Perplexity: 29.79\n",
            "Epoch [3/5], Step[600/1549], Loss: 3.7956, Perplexity: 44.51\n",
            "Epoch [3/5], Step[700/1549], Loss: 3.7142, Perplexity: 41.02\n",
            "Epoch [3/5], Step[800/1549], Loss: 3.8436, Perplexity: 46.69\n",
            "Epoch [3/5], Step[900/1549], Loss: 3.5140, Perplexity: 33.58\n",
            "Epoch [3/5], Step[1000/1549], Loss: 3.5939, Perplexity: 36.37\n",
            "Epoch [3/5], Step[1100/1549], Loss: 3.7914, Perplexity: 44.32\n",
            "Epoch [3/5], Step[1200/1549], Loss: 3.7499, Perplexity: 42.51\n",
            "Epoch [3/5], Step[1300/1549], Loss: 3.5592, Perplexity: 35.14\n",
            "Epoch [3/5], Step[1400/1549], Loss: 3.2485, Perplexity: 25.75\n",
            "Epoch [3/5], Step[1500/1549], Loss: 3.5302, Perplexity: 34.13\n",
            "Epoch [4/5], Step[0/1549], Loss: 3.5909, Perplexity: 36.27\n",
            "Epoch [4/5], Step[100/1549], Loss: 3.2482, Perplexity: 25.74\n",
            "Epoch [4/5], Step[200/1549], Loss: 3.5338, Perplexity: 34.25\n",
            "Epoch [4/5], Step[300/1549], Loss: 3.3894, Perplexity: 29.65\n",
            "Epoch [4/5], Step[400/1549], Loss: 3.3272, Perplexity: 27.86\n",
            "Epoch [4/5], Step[500/1549], Loss: 2.8563, Perplexity: 17.40\n",
            "Epoch [4/5], Step[600/1549], Loss: 3.3232, Perplexity: 27.75\n",
            "Epoch [4/5], Step[700/1549], Loss: 3.2385, Perplexity: 25.49\n",
            "Epoch [4/5], Step[800/1549], Loss: 3.3729, Perplexity: 29.16\n",
            "Epoch [4/5], Step[900/1549], Loss: 3.0536, Perplexity: 21.19\n",
            "Epoch [4/5], Step[1000/1549], Loss: 3.1765, Perplexity: 23.96\n",
            "Epoch [4/5], Step[1100/1549], Loss: 3.2363, Perplexity: 25.44\n",
            "Epoch [4/5], Step[1200/1549], Loss: 3.2580, Perplexity: 26.00\n",
            "Epoch [4/5], Step[1300/1549], Loss: 3.0739, Perplexity: 21.63\n",
            "Epoch [4/5], Step[1400/1549], Loss: 2.7901, Perplexity: 16.28\n",
            "Epoch [4/5], Step[1500/1549], Loss: 3.0408, Perplexity: 20.92\n",
            "Epoch [5/5], Step[0/1549], Loss: 3.1270, Perplexity: 22.81\n",
            "Epoch [5/5], Step[100/1549], Loss: 2.9742, Perplexity: 19.57\n",
            "Epoch [5/5], Step[200/1549], Loss: 3.1314, Perplexity: 22.91\n",
            "Epoch [5/5], Step[300/1549], Loss: 3.0066, Perplexity: 20.22\n",
            "Epoch [5/5], Step[400/1549], Loss: 2.9360, Perplexity: 18.84\n",
            "Epoch [5/5], Step[500/1549], Loss: 2.5221, Perplexity: 12.45\n",
            "Epoch [5/5], Step[600/1549], Loss: 3.0246, Perplexity: 20.59\n",
            "Epoch [5/5], Step[700/1549], Loss: 2.9015, Perplexity: 18.20\n",
            "Epoch [5/5], Step[800/1549], Loss: 3.1034, Perplexity: 22.27\n",
            "Epoch [5/5], Step[900/1549], Loss: 2.7448, Perplexity: 15.56\n",
            "Epoch [5/5], Step[1000/1549], Loss: 2.8771, Perplexity: 17.76\n",
            "Epoch [5/5], Step[1100/1549], Loss: 2.9172, Perplexity: 18.49\n",
            "Epoch [5/5], Step[1200/1549], Loss: 2.9255, Perplexity: 18.64\n",
            "Epoch [5/5], Step[1300/1549], Loss: 2.7815, Perplexity: 16.14\n",
            "Epoch [5/5], Step[1400/1549], Loss: 2.4731, Perplexity: 11.86\n",
            "Epoch [5/5], Step[1500/1549], Loss: 2.7421, Perplexity: 15.52\n"
          ]
        }
      ],
      "source": [
        "model = RNNLM(vocab_size, embed_size, hidden_size, num_layers).to(device)\n",
        "\n",
        "# Loss and optimizer\n",
        "criterion = nn.CrossEntropyLoss()\n",
        "optimizer = torch.optim.Adam(model.parameters(), lr=learning_rate)\n",
        "\n",
        "# Truncated backpropagation\n",
        "def detach(states):\n",
        "    return [state.detach() for state in states] \n",
        "\n",
        "\n",
        "# Train the model\n",
        "for epoch in range(num_epochs):\n",
        "    # Set initial hidden and cell states\n",
        "    states = (torch.zeros(num_layers, batch_size, hidden_size).to(device),\n",
        "              torch.zeros(num_layers, batch_size, hidden_size).to(device))\n",
        "    \n",
        "    for i in range(0, ids.size(1) - seq_length, seq_length):\n",
        "        # Get mini-batch inputs and targets\n",
        "        inputs = ids[:, i:i+seq_length].to(device)\n",
        "        targets = ids[:, (i+1):(i+1)+seq_length].to(device)\n",
        "        \n",
        "        # Forward pass\n",
        "        states = detach(states)\n",
        "        outputs, states = model(inputs, states)\n",
        "        loss = criterion(outputs, targets.reshape(-1))\n",
        "        \n",
        "        # Backward and optimize\n",
        "        optimizer.zero_grad()\n",
        "        loss.backward()\n",
        "        clip_grad_norm_(model.parameters(), 0.5)\n",
        "        optimizer.step()\n",
        "\n",
        "        step = (i+1) // seq_length\n",
        "        if step % 100 == 0:\n",
        "            print ('Epoch [{}/{}], Step[{}/{}], Loss: {:.4f}, Perplexity: {:5.2f}'\n",
        "                   .format(epoch+1, num_epochs, step, num_batches, loss.item(), np.exp(loss.item())))"
      ]
    },
    {
      "cell_type": "markdown",
      "metadata": {
        "id": "-Vy9OJMEXRJs"
      },
      "source": [
        "# 🤔 Questions"
      ]
    },
    {
      "cell_type": "markdown",
      "metadata": {
        "id": "jhis12qSX-ce"
      },
      "source": [
        "## 1️⃣ Q2.1 Detaching or not? (10 points)\n",
        "The above code implements a version of truncated backpropagation through time. The implementation only requires the `detach()` function (lines 7-9 of the cell) defined above the loop and used once inside the training loop.\n",
        "* Explain the implementation (compared to not using truncated backprop through time).\n",
        "* What does the `detach()` call here achieve? Draw a computational graph. You may choose to answer this question outside the notebook.\n",
        "* When using using line 7-9 we will typically observe less GPU memory being used during training, explain why in your answer.\n"
      ]
    },
    {
      "attachments": {},
      "cell_type": "markdown",
      "metadata": {},
      "source": [
        "1. When not using truncated backprop through time, the model would backpropagate through the entire sequence, making it computationally expensive and prone to vanishing or exploding gradients. By implementing TBPTT, the model backpropagates through a fixed number of steps (controlled by seq_length), which makes the training more efficient."
      ]
    },
    {
      "attachments": {},
      "cell_type": "markdown",
      "metadata": {},
      "source": [
        "2. Assume the model has one layer and a sequence length of 3. We can represent the graph as follows:\n",
        "![Drag Racing](cg2.png)\n",
        "* In this graph, the LSTM layer receives inputs from the Embedding layer and is connected to the Linear layer. The outputs from the Linear layer are the predictions at each time step. The arrows represent the flow of information and gradients during forward and backward passes.\n",
        "\n",
        "* When we use truncated backpropagation through time, we limit the number of time steps that gradients are backpropagated through. In this example, the gradients would only flow through the LSTM connections up to a certain number of time steps (e.g., 3 steps in this case).\n",
        "\n",
        "* The detach() function is used to stop gradients from flowing further back in time than the specified number of time steps. In this example, if we apply detach() after 3 time steps, the gradients will not be backpropagated beyond the third time step. This reduces the amount of computation and memory required during training and can help prevent the vanishing gradient problem in long sequences."
      ]
    },
    {
      "attachments": {},
      "cell_type": "markdown",
      "metadata": {},
      "source": [
        "3. Detaching the hidden states breaks the computational graph, and the memory associated with the previous states is freed up. When the computational graph is not detached, it keeps track of all the historical states and their gradients, which increases the memory consumption. By using TBPTT and detaching the hidden states, we can prevent excessive memory usage and make the training process more efficient."
      ]
    },
    {
      "cell_type": "markdown",
      "metadata": {
        "id": "lbyKZiTgahSv"
      },
      "source": [
        "## 🔮 Model Prediction\n",
        "Below we will use our model to generate text sequence!"
      ]
    },
    {
      "cell_type": "code",
      "execution_count": 38,
      "metadata": {
        "id": "DxQ13QcIjPE9"
      },
      "outputs": [
        {
          "name": "stdout",
          "output_type": "stream",
          "text": [
            "to <unk> up footing the union leader says <unk> <unk> senior vice president at royal university \n",
            "professor space roger student strongly matter was a crucial disappointing in los angeles that led to the <unk> and <unk> of ronald reagan 's journal \n",
            "confidence players <unk> and great together a "
          ]
        }
      ],
      "source": [
        "# Sample from the model\n",
        "with torch.no_grad():\n",
        "    with open('sample.txt', 'w') as f:\n",
        "        # Set intial hidden ane cell states\n",
        "        state = (torch.zeros(num_layers, 1, hidden_size).to(device),\n",
        "                 torch.zeros(num_layers, 1, hidden_size).to(device))\n",
        "\n",
        "        # Select one word id randomly\n",
        "        prob = torch.ones(vocab_size)\n",
        "        input = torch.multinomial(prob, num_samples=1).unsqueeze(1).to(device)\n",
        "\n",
        "        for i in range(num_samples):\n",
        "            # Forward propagate RNN \n",
        "            output, state = model(input, state)\n",
        "\n",
        "            # Sample a word id\n",
        "            prob = output.exp()\n",
        "            word_id = torch.multinomial(prob, num_samples=1).item()\n",
        "\n",
        "            # Fill input with sampled word id for the next time step\n",
        "            input.fill_(word_id)\n",
        "\n",
        "            # File write\n",
        "            word = corpus.dictionary.idx2word[word_id]\n",
        "            word = '\\n' if word == '<eos>' else word + ' '\n",
        "            f.write(word)\n",
        "\n",
        "            if (i+1) % 100 == 0:\n",
        "                print('Sampled [{}/{}] words and save to {}'.format(i+1, num_samples, 'sample.txt'))\n",
        "! cat sample.txt"
      ]
    },
    {
      "cell_type": "markdown",
      "metadata": {
        "id": "xXsUDt0tbAHM"
      },
      "source": [
        "## 2️⃣ Q2.2 Sampling strategy (7 points)\n",
        "Consider the sampling procedure above. The current code samples a word:\n",
        "```python\n",
        "word_id = torch.multinomial(prob, num_samples=1).item()\n",
        "```\n",
        "in order to feed the model at each output step and feeding those to the next timestep. Copy below the above cell and modify this sampling startegy to use a greedy sampling which selects the highest probability word at each time step to feed as the next input."
      ]
    },
    {
      "cell_type": "code",
      "execution_count": 15,
      "metadata": {
        "id": "2BeO7LSWiyIZ"
      },
      "outputs": [
        {
          "name": "stdout",
          "output_type": "stream",
          "text": [
            "in the u.s. august \n",
            "the company said the acquisition is subject to a definitive agreement by <unk> its <unk> subsidiary of <unk> <unk> inc. a <unk> calif. <unk> subsidiary \n",
            "the <unk> <unk> company said it is seeking to sell its <unk> unit and <unk> coors co. of america "
          ]
        }
      ],
      "source": [
        "# Sample greedily from the model\n",
        "with torch.no_grad():\n",
        "    with open('sample_greedy.txt', 'w') as f:\n",
        "        # Set intial hidden ane cell states\n",
        "        state = (torch.zeros(num_layers, 1, hidden_size).to(device),\n",
        "                 torch.zeros(num_layers, 1, hidden_size).to(device))\n",
        "\n",
        "        # Select one word id randomly\n",
        "        prob = torch.ones(vocab_size)\n",
        "        input = torch.multinomial(prob, num_samples=1).unsqueeze(1).to(device)\n",
        "\n",
        "        for i in range(num_samples):\n",
        "            # Forward propagate RNN \n",
        "            output, state = model(input, state)\n",
        "\n",
        "            # Sample a word id\n",
        "            word_id = output.argmax(1).item()\n",
        "\n",
        "            # Fill input with sampled word id for the next time step\n",
        "            input.fill_(word_id)\n",
        "\n",
        "            # File write\n",
        "            word = corpus.dictionary.idx2word[word_id]\n",
        "            word = '\\n' if word == '<eos>' else word + ' '\n",
        "            f.write(word)\n",
        "\n",
        "            if (i+1) % 100 == 0:\n",
        "                print('Sampled [{}/{}] words and save to {}'.format(i+1, num_samples, 'sample_greedy.txt'))\n",
        "\n",
        "! cat sample_greedy.txt"
      ]
    },
    {
      "cell_type": "markdown",
      "metadata": {
        "id": "o8YV7laBe9er"
      },
      "source": [
        "## 3️⃣ Q2.3 Embedding Distance (8 points)\n",
        "Our model has learned a specific set of word embeddings.\n",
        "* Write a function that takes in 2 words and prints the cosine distance between their embeddings using the word embeddings from the above models.\n",
        "* Use it to print the cosine distance of the word \"army\" and the word \"taxpayer\".\n",
        "\n",
        "*Refer to the sampling code for how to output the words corresponding to each index. To get the index you can use the function `corpus.dictionary.word2idx.`*\n"
      ]
    },
    {
      "cell_type": "code",
      "execution_count": 18,
      "metadata": {
        "id": "e6w3JSY3d_6c"
      },
      "outputs": [
        {
          "name": "stdout",
          "output_type": "stream",
          "text": [
            "Cosine distance between 'army' and 'taxpayer': 0.9321\n"
          ]
        }
      ],
      "source": [
        "# Embedding distance\n",
        "import torch.nn.functional as F\n",
        "\n",
        "def cosine_distance(word1, word2, model):\n",
        "    # Get the word indices\n",
        "    idx1 = corpus.dictionary.word2idx[word1]\n",
        "    idx2 = corpus.dictionary.word2idx[word2]\n",
        "    \n",
        "    # Get the word embeddings from the model\n",
        "    embed1 = model.embed(torch.tensor(idx1).to(device)).detach().cpu()\n",
        "    embed2 = model.embed(torch.tensor(idx2).to(device)).detach().cpu()\n",
        "    \n",
        "    # Calculate the cosine similarity between the two embeddings\n",
        "    cos_sim = F.cosine_similarity(embed1, embed2, dim=0)\n",
        "    \n",
        "    # Calculate the cosine distance as 1 - cosine similarity\n",
        "    cos_dist = 1 - cos_sim\n",
        "    \n",
        "    return cos_dist\n",
        "\n",
        "word1 = \"army\"\n",
        "word2 = \"taxpayer\"\n",
        "cos_dist = cosine_distance(word1, word2, model)\n",
        "print(\"Cosine distance between '{}' and '{}': {:.4f}\".format(word1, word2, cos_dist))\n"
      ]
    },
    {
      "cell_type": "markdown",
      "metadata": {
        "id": "O44EBrsQdA4n"
      },
      "source": [
        "## 4️⃣ Q2.4 Teacher Forcing (Extra Credit 2 points)\n",
        "What is teacher forcing?\n",
        "> Teacher forcing works by using the actual or expected output from the training dataset at the current time step $y(t)$ as input in the next time step $X(t+1)$, rather than the output generated by the network.\n",
        "\n",
        "In the `🏓 Training` code this is achieved, implicitly, when we pass the entire input sequence (`inputs = ids[:, i:i+seq_length].to(device)`) to the model at once.\n",
        "\n",
        "Copy below the `🏓 Training` code and modify it to disable teacher forcing training. Compare the performance of this model, to original model, what can you conclude? (compare perplexity and convergence rate)"
      ]
    },
    {
      "cell_type": "code",
      "execution_count": 13,
      "metadata": {
        "id": "qfgf5pJGfL-D"
      },
      "outputs": [
        {
          "name": "stdout",
          "output_type": "stream",
          "text": [
            "Epoch [1/5], Step[0/1549], Loss: 8.4087, Perplexity: 4486.13\n",
            "Epoch [1/5], Step[100/1549], Loss: 6.5210, Perplexity: 679.25\n",
            "Epoch [1/5], Step[200/1549], Loss: 6.7618, Perplexity: 864.21\n",
            "Epoch [1/5], Step[300/1549], Loss: 6.7580, Perplexity: 860.89\n",
            "Epoch [1/5], Step[400/1549], Loss: 6.6612, Perplexity: 781.50\n",
            "Epoch [1/5], Step[500/1549], Loss: 6.6264, Perplexity: 754.74\n",
            "Epoch [1/5], Step[600/1549], Loss: 6.4988, Perplexity: 664.34\n",
            "Epoch [1/5], Step[700/1549], Loss: 6.8312, Perplexity: 926.29\n",
            "Epoch [1/5], Step[800/1549], Loss: 6.5867, Perplexity: 725.40\n",
            "Epoch [1/5], Step[900/1549], Loss: 6.9411, Perplexity: 1033.87\n",
            "Epoch [1/5], Step[1000/1549], Loss: 6.7880, Perplexity: 887.12\n",
            "Epoch [1/5], Step[1100/1549], Loss: 6.9334, Perplexity: 1025.93\n",
            "Epoch [1/5], Step[1200/1549], Loss: 6.6696, Perplexity: 788.05\n",
            "Epoch [1/5], Step[1300/1549], Loss: 6.9659, Perplexity: 1059.84\n",
            "Epoch [1/5], Step[1400/1549], Loss: 6.7953, Perplexity: 893.66\n",
            "Epoch [1/5], Step[1500/1549], Loss: 6.8082, Perplexity: 905.27\n",
            "Epoch [2/5], Step[0/1549], Loss: 7.3388, Perplexity: 1538.88\n",
            "Epoch [2/5], Step[100/1549], Loss: 6.4142, Perplexity: 610.44\n",
            "Epoch [2/5], Step[200/1549], Loss: 6.5203, Perplexity: 678.78\n",
            "Epoch [2/5], Step[300/1549], Loss: 6.6017, Perplexity: 736.34\n",
            "Epoch [2/5], Step[400/1549], Loss: 6.4344, Perplexity: 622.91\n",
            "Epoch [2/5], Step[500/1549], Loss: 6.2837, Perplexity: 535.78\n",
            "Epoch [2/5], Step[600/1549], Loss: 6.3646, Perplexity: 580.92\n",
            "Epoch [2/5], Step[700/1549], Loss: 6.7754, Perplexity: 876.06\n",
            "Epoch [2/5], Step[800/1549], Loss: 6.5647, Perplexity: 709.62\n",
            "Epoch [2/5], Step[900/1549], Loss: 6.6884, Perplexity: 803.07\n",
            "Epoch [2/5], Step[1000/1549], Loss: 6.5059, Perplexity: 669.07\n",
            "Epoch [2/5], Step[1100/1549], Loss: 6.7770, Perplexity: 877.39\n",
            "Epoch [2/5], Step[1200/1549], Loss: 6.4880, Perplexity: 657.21\n",
            "Epoch [2/5], Step[1300/1549], Loss: 6.7233, Perplexity: 831.53\n",
            "Epoch [2/5], Step[1400/1549], Loss: 6.6928, Perplexity: 806.58\n",
            "Epoch [2/5], Step[1500/1549], Loss: 6.6925, Perplexity: 806.37\n",
            "Epoch [3/5], Step[0/1549], Loss: 7.0970, Perplexity: 1208.36\n",
            "Epoch [3/5], Step[100/1549], Loss: 6.2202, Perplexity: 502.83\n",
            "Epoch [3/5], Step[200/1549], Loss: 6.2394, Perplexity: 512.55\n",
            "Epoch [3/5], Step[300/1549], Loss: 6.4985, Perplexity: 664.13\n",
            "Epoch [3/5], Step[400/1549], Loss: 6.3901, Perplexity: 595.89\n",
            "Epoch [3/5], Step[500/1549], Loss: 6.1349, Perplexity: 461.70\n",
            "Epoch [3/5], Step[600/1549], Loss: 6.2869, Perplexity: 537.47\n",
            "Epoch [3/5], Step[700/1549], Loss: 6.6364, Perplexity: 762.38\n",
            "Epoch [3/5], Step[800/1549], Loss: 6.4524, Perplexity: 634.23\n",
            "Epoch [3/5], Step[900/1549], Loss: 6.5398, Perplexity: 692.13\n",
            "Epoch [3/5], Step[1000/1549], Loss: 6.4948, Perplexity: 661.67\n",
            "Epoch [3/5], Step[1100/1549], Loss: 6.7849, Perplexity: 884.36\n",
            "Epoch [3/5], Step[1200/1549], Loss: 6.3687, Perplexity: 583.30\n",
            "Epoch [3/5], Step[1300/1549], Loss: 6.7048, Perplexity: 816.32\n",
            "Epoch [3/5], Step[1400/1549], Loss: 6.6204, Perplexity: 750.25\n",
            "Epoch [3/5], Step[1500/1549], Loss: 6.7342, Perplexity: 840.67\n",
            "Epoch [4/5], Step[0/1549], Loss: 7.1596, Perplexity: 1286.36\n",
            "Epoch [4/5], Step[100/1549], Loss: 6.1672, Perplexity: 476.83\n",
            "Epoch [4/5], Step[200/1549], Loss: 6.3235, Perplexity: 557.54\n",
            "Epoch [4/5], Step[300/1549], Loss: 6.5372, Perplexity: 690.33\n",
            "Epoch [4/5], Step[400/1549], Loss: 6.2792, Perplexity: 533.37\n",
            "Epoch [4/5], Step[500/1549], Loss: 6.2083, Perplexity: 496.85\n",
            "Epoch [4/5], Step[600/1549], Loss: 6.2896, Perplexity: 538.92\n",
            "Epoch [4/5], Step[700/1549], Loss: 6.5763, Perplexity: 717.91\n",
            "Epoch [4/5], Step[800/1549], Loss: 6.3302, Perplexity: 561.28\n",
            "Epoch [4/5], Step[900/1549], Loss: 6.4013, Perplexity: 602.60\n",
            "Epoch [4/5], Step[1000/1549], Loss: 6.4701, Perplexity: 645.55\n",
            "Epoch [4/5], Step[1100/1549], Loss: 6.5227, Perplexity: 680.39\n",
            "Epoch [4/5], Step[1200/1549], Loss: 6.2732, Perplexity: 530.20\n",
            "Epoch [4/5], Step[1300/1549], Loss: 6.7449, Perplexity: 849.71\n",
            "Epoch [4/5], Step[1400/1549], Loss: 6.5712, Perplexity: 714.26\n",
            "Epoch [4/5], Step[1500/1549], Loss: 6.5846, Perplexity: 723.89\n",
            "Epoch [5/5], Step[0/1549], Loss: 7.2840, Perplexity: 1456.75\n",
            "Epoch [5/5], Step[100/1549], Loss: 6.1739, Perplexity: 480.06\n",
            "Epoch [5/5], Step[200/1549], Loss: 6.2192, Perplexity: 502.28\n",
            "Epoch [5/5], Step[300/1549], Loss: 6.7737, Perplexity: 874.59\n",
            "Epoch [5/5], Step[400/1549], Loss: 6.3300, Perplexity: 561.16\n",
            "Epoch [5/5], Step[500/1549], Loss: 6.1504, Perplexity: 468.92\n",
            "Epoch [5/5], Step[600/1549], Loss: 6.3650, Perplexity: 581.14\n",
            "Epoch [5/5], Step[700/1549], Loss: 6.4883, Perplexity: 657.38\n",
            "Epoch [5/5], Step[800/1549], Loss: 6.2693, Perplexity: 528.10\n",
            "Epoch [5/5], Step[900/1549], Loss: 6.3427, Perplexity: 568.33\n",
            "Epoch [5/5], Step[1000/1549], Loss: 6.4073, Perplexity: 606.24\n",
            "Epoch [5/5], Step[1100/1549], Loss: 6.4607, Perplexity: 639.48\n",
            "Epoch [5/5], Step[1200/1549], Loss: 6.2769, Perplexity: 532.16\n",
            "Epoch [5/5], Step[1300/1549], Loss: 6.7547, Perplexity: 858.12\n",
            "Epoch [5/5], Step[1400/1549], Loss: 6.6242, Perplexity: 753.08\n",
            "Epoch [5/5], Step[1500/1549], Loss: 6.5663, Perplexity: 710.75\n"
          ]
        }
      ],
      "source": [
        "# Training code with Teacher Forcing\n",
        "# Modified RNNLM model for step-by-step training without teacher forcing\n",
        "class RNNLM_no_teacher_forcing(nn.Module):\n",
        "    def __init__(self, vocab_size, embed_size, hidden_size, num_layers):\n",
        "        super(RNNLM_no_teacher_forcing, self).__init__()\n",
        "        self.embed = nn.Embedding(vocab_size, embed_size)\n",
        "        self.lstm = nn.LSTM(embed_size, hidden_size, num_layers, batch_first=True)\n",
        "        self.linear = nn.Linear(hidden_size, vocab_size)\n",
        "        \n",
        "    def forward(self, x, h):\n",
        "        # Embed word ids to vectors\n",
        "        x = self.embed(x)\n",
        "        \n",
        "        # Forward propagate LSTM\n",
        "        out, (h, c) = self.lstm(x, h)\n",
        "        \n",
        "        # Decode hidden states of all time steps\n",
        "        out = self.linear(out.squeeze(1))\n",
        "        return out, (h, c)\n",
        "\n",
        "model_no_tf = RNNLM_no_teacher_forcing(vocab_size, embed_size, hidden_size, num_layers).to(device)\n",
        "\n",
        "# Loss and optimizer\n",
        "criterion = nn.CrossEntropyLoss()\n",
        "optimizer = torch.optim.Adam(model_no_tf.parameters(), lr=learning_rate)\n",
        "\n",
        "# Train the model without teacher forcing\n",
        "for epoch in range(num_epochs):\n",
        "    # Set initial hidden and cell states\n",
        "    states = (torch.zeros(num_layers, batch_size, hidden_size).to(device),\n",
        "              torch.zeros(num_layers, batch_size, hidden_size).to(device))\n",
        "\n",
        "    for i in range(0, ids.size(1) - seq_length, seq_length):\n",
        "        # Get mini-batch inputs and targets\n",
        "        inputs = ids[:, i:i+1].to(device)  # Only take the first input of the sequence\n",
        "        targets = ids[:, (i+1):(i+1)+seq_length].to(device)\n",
        "\n",
        "        # Initialize the cumulative loss for this sequence\n",
        "        cumulative_loss = 0\n",
        "\n",
        "        # Loop through the sequence\n",
        "        for j in range(seq_length):\n",
        "            # Forward pass\n",
        "            states = detach(states)\n",
        "            outputs, states = model_no_tf(inputs, states)\n",
        "\n",
        "            # Calculate the loss\n",
        "            loss = criterion(outputs, targets[:, j])\n",
        "            cumulative_loss += loss.item()\n",
        "\n",
        "            # Backward and optimize\n",
        "            optimizer.zero_grad()\n",
        "            loss.backward()\n",
        "            clip_grad_norm_(model_no_tf.parameters(), 0.5)\n",
        "            optimizer.step()\n",
        "\n",
        "            # Use the predicted output as input for the next time step\n",
        "            inputs = outputs.argmax(dim=1).unsqueeze(1).to(device)\n",
        "\n",
        "        step = (i+1) // seq_length\n",
        "        if step % 100 == 0:\n",
        "            avg_loss = cumulative_loss / seq_length\n",
        "            print('Epoch [{}/{}], Step[{}/{}], Loss: {:.4f}, Perplexity: {:5.2f}'\n",
        "                .format(epoch+1, num_epochs, step, num_batches, avg_loss, np.exp(avg_loss)))\n",
        "\n"
      ]
    },
    {
      "cell_type": "markdown",
      "metadata": {
        "id": "xH2TG4v3PBOu"
      },
      "source": [
        "## 5️⃣ Q2.5 Distance Comparison (+1 point)\n",
        "Repeat the work you did for `3️⃣ Q2.3 Embedding Distance` for the model in `4️⃣ Q2.4 Teacher Forcing` and compare the distances produced by these two models (i.e. with and without the teacher forcing), what can you conclude?"
      ]
    },
    {
      "cell_type": "code",
      "execution_count": 14,
      "metadata": {
        "id": "EABSoOAGPAaS"
      },
      "outputs": [
        {
          "name": "stdout",
          "output_type": "stream",
          "text": [
            "Cosine distance with teacher forcing: 0.9321\n",
            "Cosine distance without teacher forcing: 1.1265\n"
          ]
        }
      ],
      "source": [
        "word1 = \"army\"\n",
        "word2 = \"taxpayer\"\n",
        "\n",
        "# Calculate cosine distances for both models\n",
        "cos_dist_tf = cosine_distance(word1, word2, model)  # With teacher forcing\n",
        "cos_dist_no_tf = cosine_distance(word1, word2, model_no_tf)  # Without teacher forcing\n",
        "\n",
        "# Print the results\n",
        "print(\"Cosine distance with teacher forcing: {:.4f}\".format(cos_dist_tf))\n",
        "print(\"Cosine distance without teacher forcing: {:.4f}\".format(cos_dist_no_tf))\n"
      ]
    },
    {
      "attachments": {},
      "cell_type": "markdown",
      "metadata": {},
      "source": [
        "## Discussion:\n",
        "The model with teacher forcing has a smaller cosine distance (0.9321) compared to the model without teacher forcing (1.1265).\n",
        "\n",
        "This suggests that the learned representations of words in the embedding space are influenced by the training method. In this case, the model trained with teacher forcing seems to learn word embeddings that place \"army\" and \"taxpayer\" closer together in the embedding space than the model trained without teacher forcing.\n",
        "\n",
        "It's important to note that this observation is based on a single pair of words, and further analysis would be needed to draw more general conclusions about the effect of teacher forcing on word embeddings. However, this example demonstrates that the choice of training method can have an impact on the learned representations of words."
      ]
    }
  ],
  "metadata": {
    "accelerator": "GPU",
    "colab": {
      "provenance": []
    },
    "kernelspec": {
      "display_name": "Python 3",
      "name": "python3"
    },
    "language_info": {
      "codemirror_mode": {
        "name": "ipython",
        "version": 3
      },
      "file_extension": ".py",
      "mimetype": "text/x-python",
      "name": "python",
      "nbconvert_exporter": "python",
      "pygments_lexer": "ipython3",
      "version": "3.9.16"
    }
  },
  "nbformat": 4,
  "nbformat_minor": 0
}
